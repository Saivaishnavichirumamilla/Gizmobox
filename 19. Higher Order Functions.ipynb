{
 "cells": [
  {
   "cell_type": "markdown",
   "metadata": {
    "application/vnd.databricks.v1+cell": {
     "cellMetadata": {},
     "inputWidgets": {},
     "nuid": "46269637-cdbc-4078-91dc-66edf5d42f98",
     "showTitle": false,
     "tableResultSettingsMap": {},
     "title": ""
    }
   },
   "source": [
    "### Higher Order Functions\n",
    "- Higher order functions are functions that operate on complex data such as arrays and maps\n",
    "- They allow you to pass functions as arguments(such as lamda expression), apply transformations and return arrays or maps.\n",
    "- They are extremely useful for manipulating the arrays without exploding them.\n"
   ]
  },
  {
   "cell_type": "markdown",
   "metadata": {
    "application/vnd.databricks.v1+cell": {
     "cellMetadata": {},
     "inputWidgets": {},
     "nuid": "fcdbdf6d-007c-42f8-aa3e-7b9c5ea8db93",
     "showTitle": false,
     "tableResultSettingsMap": {},
     "title": ""
    }
   },
   "source": [
    "Commonly used HOF in arrays\n",
    "- Transform\n",
    "- Filter\n",
    "- EXists\n",
    "- Aggregate"
   ]
  },
  {
   "cell_type": "markdown",
   "metadata": {
    "application/vnd.databricks.v1+cell": {
     "cellMetadata": {},
     "inputWidgets": {},
     "nuid": "14a8f50a-60cb-4c88-9772-feab2178bedb",
     "showTitle": false,
     "tableResultSettingsMap": {},
     "title": ""
    }
   },
   "source": [
    "Syntax\n",
    "\n",
    "<function name> (array_column, lamda expression)\n",
    "\n",
    "Lambda expression: element -> expression"
   ]
  },
  {
   "cell_type": "markdown",
   "metadata": {
    "application/vnd.databricks.v1+cell": {
     "cellMetadata": {},
     "inputWidgets": {},
     "nuid": "f1c146a8-2dbc-43fc-9939-0a5fc060472e",
     "showTitle": false,
     "tableResultSettingsMap": {},
     "title": ""
    }
   },
   "source": [
    "MAP functions\n",
    "- TRANSFORM_VALUES\n",
    "- TRANSFORM_KEYS\n",
    "- MAP_FILTER\n",
    "\n",
    "Syntax\n",
    "<function name> (map_column,lambda_expression);\n",
    "lambda expression; (key, value) ->expression "
   ]
  }
 ],
 "metadata": {
  "application/vnd.databricks.v1+notebook": {
   "computePreferences": null,
   "dashboards": [],
   "environmentMetadata": {
    "base_environment": "",
    "environment_version": "2"
   },
   "inputWidgetPreferences": null,
   "language": "sql",
   "notebookMetadata": {},
   "notebookName": "19. Higher Order Functions",
   "widgets": {}
  },
  "language_info": {
   "name": "sql"
  }
 },
 "nbformat": 4,
 "nbformat_minor": 0
}
