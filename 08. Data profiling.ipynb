{
 "cells": [
  {
   "cell_type": "markdown",
   "metadata": {
    "application/vnd.databricks.v1+cell": {
     "cellMetadata": {},
     "inputWidgets": {},
     "nuid": "64fab7d7-ce11-4475-9a3e-bf690e3bd911",
     "showTitle": false,
     "tableResultSettingsMap": {},
     "title": ""
    }
   },
   "source": [
    "### Data profiling in Databricks\n",
    "- Profile data using UI\n",
    "- Profile data using DBUTILS Package (dbutils.data.summarize method)\n",
    "- Profle data manually\n",
    "  - COUNT\n",
    "  - COUNT_IF\n",
    "  - WHERE\n",
    "  - MIN\n",
    "  - MAX\n",
    "  - DISTINCT"
   ]
  }
 ],
 "metadata": {
  "application/vnd.databricks.v1+notebook": {
   "computePreferences": null,
   "dashboards": [],
   "environmentMetadata": {
    "base_environment": "",
    "environment_version": "2"
   },
   "inputWidgetPreferences": null,
   "language": "sql",
   "notebookMetadata": {
    "pythonIndentUnit": 4
   },
   "notebookName": "08. Data profiling",
   "widgets": {}
  },
  "language_info": {
   "name": "sql"
  }
 },
 "nbformat": 4,
 "nbformat_minor": 0
}
