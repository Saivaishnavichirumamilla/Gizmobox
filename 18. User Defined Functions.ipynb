{
 "cells": [
  {
   "cell_type": "markdown",
   "metadata": {
    "application/vnd.databricks.v1+cell": {
     "cellMetadata": {},
     "inputWidgets": {},
     "nuid": "ebb2bdfd-95c7-484b-9afb-a555e826de9b",
     "showTitle": false,
     "tableResultSettingsMap": {},
     "title": ""
    }
   },
   "source": [
    "### User Defined Functions (UDF)\n",
    "- User defined functions in spark are custom functions created by users to extend the capabilities of Spark SQL, and PySpark.\n",
    "- UDFs allows us to perform calculations and transformations to apply business logic that are not possible with built-in functions.\n",
    "- You define the function once and use it across multiple queries.\n",
    "- SQL UDFs are recommended over Python UDFs due to better optimization."
   ]
  },
  {
   "cell_type": "markdown",
   "metadata": {
    "application/vnd.databricks.v1+cell": {
     "cellMetadata": {},
     "inputWidgets": {},
     "nuid": "cb0612c8-6f55-4ac6-99b5-003dec1dbf89",
     "showTitle": false,
     "tableResultSettingsMap": {},
     "title": ""
    }
   },
   "source": [
    "Syntax\n",
    "\n",
    "- CREATE OR REPLACE FUNCTION catalog_name.schema_name.udf_name(param_num data_type)\n",
    "RETURNS return_type\n",
    "RETURN expression;"
   ]
  },
  {
   "cell_type": "code",
   "execution_count": 0,
   "metadata": {
    "application/vnd.databricks.v1+cell": {
     "cellMetadata": {
      "byteLimit": 2048000,
      "rowLimit": 10000
     },
     "inputWidgets": {},
     "nuid": "627bfa1f-e5c8-4c9f-a91e-0b532954fc0c",
     "showTitle": false,
     "tableResultSettingsMap": {},
     "title": ""
    }
   },
   "outputs": [],
   "source": [
    "CREATE OR REPLACE FUNCTION gizmobox.default.full_name(first_name STRING, last_name STRING)\n",
    "RETURNS STRING\n",
    "RETURN concat(initcap(first_name), ' ', initcap(last_name))"
   ]
  },
  {
   "cell_type": "code",
   "execution_count": 0,
   "metadata": {
    "application/vnd.databricks.v1+cell": {
     "cellMetadata": {
      "byteLimit": 2048000,
      "rowLimit": 10000
     },
     "inputWidgets": {},
     "nuid": "4a579e1d-faed-42a2-a49e-f79675e70092",
     "showTitle": false,
     "tableResultSettingsMap": {},
     "title": ""
    }
   },
   "outputs": [],
   "source": [
    "select gizmobox.default.full_name('saivaishnavi', 'chirumamilla')"
   ]
  }
 ],
 "metadata": {
  "application/vnd.databricks.v1+notebook": {
   "computePreferences": null,
   "dashboards": [],
   "environmentMetadata": {
    "base_environment": "",
    "environment_version": "2"
   },
   "inputWidgetPreferences": null,
   "language": "sql",
   "notebookMetadata": {
    "pythonIndentUnit": 4
   },
   "notebookName": "18. User Defined Functions",
   "widgets": {}
  },
  "language_info": {
   "name": "sql"
  }
 },
 "nbformat": 4,
 "nbformat_minor": 0
}
