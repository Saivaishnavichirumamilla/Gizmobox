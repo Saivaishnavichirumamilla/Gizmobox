{
 "cells": [
  {
   "cell_type": "markdown",
   "metadata": {
    "application/vnd.databricks.v1+cell": {
     "cellMetadata": {},
     "inputWidgets": {},
     "nuid": "ed4d4ba8-123e-417a-907b-cec445f27bd6",
     "showTitle": false,
     "tableResultSettingsMap": {},
     "title": ""
    }
   },
   "source": [
    "### Transform Payments data\n",
    "- Extract date and time from payment_timestamp and create new columns payment_date and payment_time\n",
    "- Map payment_status to contain descriptive values\n",
    "  (1- Success, 2- Pending, 3- Cancelled 4- Failed)\n",
    "- Write transformed data to silver schema"
   ]
  },
  {
   "cell_type": "code",
   "execution_count": 0,
   "metadata": {
    "application/vnd.databricks.v1+cell": {
     "cellMetadata": {
      "byteLimit": 2048000,
      "rowLimit": 10000
     },
     "inputWidgets": {},
     "nuid": "557f6c99-6342-4a78-a025-73ec2dea0a15",
     "showTitle": false,
     "tableResultSettingsMap": {},
     "title": ""
    }
   },
   "outputs": [],
   "source": [
    "describe extended gizmobox.bronze.payments"
   ]
  },
  {
   "cell_type": "code",
   "execution_count": 0,
   "metadata": {
    "application/vnd.databricks.v1+cell": {
     "cellMetadata": {
      "byteLimit": 2048000,
      "rowLimit": 10000
     },
     "inputWidgets": {},
     "nuid": "85dea855-ec3a-4796-a2bd-0c009586109e",
     "showTitle": false,
     "tableResultSettingsMap": {},
     "title": ""
    }
   },
   "outputs": [],
   "source": [
    "UNCACHE TABLE gizmobox.bronze.payments;\n",
    "REFRESH TABLE gizmobox.bronze.payments;\n"
   ]
  },
  {
   "cell_type": "code",
   "execution_count": 0,
   "metadata": {
    "application/vnd.databricks.v1+cell": {
     "cellMetadata": {
      "byteLimit": 2048000,
      "rowLimit": 10000
     },
     "inputWidgets": {},
     "nuid": "6a237e23-41d8-4e86-a865-3075a4e48064",
     "showTitle": false,
     "tableResultSettingsMap": {},
     "title": ""
    }
   },
   "outputs": [],
   "source": [
    "select * from gizmobox.bronze.payments"
   ]
  },
  {
   "cell_type": "markdown",
   "metadata": {
    "application/vnd.databricks.v1+cell": {
     "cellMetadata": {},
     "inputWidgets": {},
     "nuid": "f09eae10-1e39-4587-960d-8bae1c3635af",
     "showTitle": false,
     "tableResultSettingsMap": {},
     "title": ""
    }
   },
   "source": [
    "### Extract date and time from payment_timestamp and create new columns payment_date and payment_time"
   ]
  },
  {
   "cell_type": "code",
   "execution_count": 0,
   "metadata": {
    "application/vnd.databricks.v1+cell": {
     "cellMetadata": {
      "byteLimit": 2048000,
      "rowLimit": 10000
     },
     "inputWidgets": {},
     "nuid": "a6fd3d04-24e0-48ba-bdf5-10947ceb105a",
     "showTitle": false,
     "tableResultSettingsMap": {},
     "title": ""
    }
   },
   "outputs": [],
   "source": [
    "select payment_id, order_id, \n",
    "CAST(date_format(payment_timestamp,'yyyy-MM-dd')as DATE) as payment_date, date_format(payment_timestamp,'HH:mm:ss') as payment_time,\n",
    "payment_status, \n",
    "payment_method\n",
    "from gizmobox.bronze.payments"
   ]
  },
  {
   "cell_type": "markdown",
   "metadata": {
    "application/vnd.databricks.v1+cell": {
     "cellMetadata": {},
     "inputWidgets": {},
     "nuid": "be5a5211-2bec-4cd5-8a06-ca7a447b0e69",
     "showTitle": false,
     "tableResultSettingsMap": {},
     "title": ""
    }
   },
   "source": [
    "### Map payment_status to contain descriptive values (1- Success, 2- Pending, 3- Cancelled 4- Failed)"
   ]
  },
  {
   "cell_type": "code",
   "execution_count": 0,
   "metadata": {
    "application/vnd.databricks.v1+cell": {
     "cellMetadata": {
      "byteLimit": 2048000,
      "rowLimit": 10000
     },
     "inputWidgets": {},
     "nuid": "b83a9145-3f1a-4168-b0ef-cbe24268aa8b",
     "showTitle": false,
     "tableResultSettingsMap": {},
     "title": ""
    }
   },
   "outputs": [],
   "source": [
    "select payment_id, order_id, \n",
    "CAST(date_format(payment_timestamp,'yyyy-MM-dd')as DATE) as payment_date, date_format(payment_timestamp,'HH:mm:ss') as payment_time,\n",
    "CASE \n",
    "WHEN payment_status = 1 THEN 'success'\n",
    "WHEN payment_status = 2 THEN 'pending'\n",
    "WHEN payment_status = 3 THEN 'cancelled'\n",
    "ELSE 'failed'\n",
    "END\n",
    "payment_status, \n",
    "payment_method\n",
    "from gizmobox.bronze.payments"
   ]
  },
  {
   "cell_type": "markdown",
   "metadata": {
    "application/vnd.databricks.v1+cell": {
     "cellMetadata": {},
     "inputWidgets": {},
     "nuid": "9550b41c-8613-42b3-9aa5-9745013aee5c",
     "showTitle": false,
     "tableResultSettingsMap": {},
     "title": ""
    }
   },
   "source": [
    "### Write transformed data to silver schema"
   ]
  },
  {
   "cell_type": "code",
   "execution_count": 0,
   "metadata": {
    "application/vnd.databricks.v1+cell": {
     "cellMetadata": {
      "byteLimit": 2048000,
      "rowLimit": 10000
     },
     "inputWidgets": {},
     "nuid": "9fdd7f85-6035-43bc-b6c3-01edbbcb0de7",
     "showTitle": false,
     "tableResultSettingsMap": {},
     "title": ""
    }
   },
   "outputs": [],
   "source": [
    "CREATE TABLE IF NOT EXISTS gizmobox.silver.payments\n",
    "AS\n",
    "select payment_id, order_id, \n",
    "CAST(date_format(payment_timestamp,'yyyy-MM-dd')as DATE) as payment_date, date_format(payment_timestamp,'HH:mm:ss') as payment_time,\n",
    "CASE \n",
    "WHEN payment_status = 1 THEN 'success'\n",
    "WHEN payment_status = 2 THEN 'pending'\n",
    "WHEN payment_status = 3 THEN 'cancelled'\n",
    "ELSE 'failed'\n",
    "END\n",
    "payment_status, \n",
    "payment_method\n",
    "from gizmobox.bronze.payments\n"
   ]
  },
  {
   "cell_type": "code",
   "execution_count": 0,
   "metadata": {
    "application/vnd.databricks.v1+cell": {
     "cellMetadata": {
      "byteLimit": 2048000,
      "rowLimit": 10000
     },
     "inputWidgets": {},
     "nuid": "23ea80cf-49a4-431f-9d1e-a627a990357b",
     "showTitle": false,
     "tableResultSettingsMap": {},
     "title": ""
    }
   },
   "outputs": [],
   "source": [
    "select * from gizmobox.silver.payments"
   ]
  },
  {
   "cell_type": "code",
   "execution_count": 0,
   "metadata": {
    "application/vnd.databricks.v1+cell": {
     "cellMetadata": {
      "byteLimit": 2048000,
      "rowLimit": 10000
     },
     "inputWidgets": {},
     "nuid": "ea852ee5-0a35-4dcf-b52b-fe68b46dd1b0",
     "showTitle": false,
     "tableResultSettingsMap": {},
     "title": ""
    }
   },
   "outputs": [],
   "source": [
    "describe extended gizmobox.silver.payments"
   ]
  }
 ],
 "metadata": {
  "application/vnd.databricks.v1+notebook": {
   "computePreferences": null,
   "dashboards": [],
   "environmentMetadata": {
    "base_environment": "",
    "environment_version": "2"
   },
   "inputWidgetPreferences": null,
   "language": "sql",
   "notebookMetadata": {
    "pythonIndentUnit": 4
   },
   "notebookName": "10. Transform Payments data",
   "widgets": {}
  },
  "language_info": {
   "name": "sql"
  }
 },
 "nbformat": 4,
 "nbformat_minor": 0
}
