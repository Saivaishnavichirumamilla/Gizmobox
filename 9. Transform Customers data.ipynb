{
 "cells": [
  {
   "cell_type": "markdown",
   "metadata": {
    "application/vnd.databricks.v1+cell": {
     "cellMetadata": {},
     "inputWidgets": {},
     "nuid": "393adce2-bf57-43a3-8fa2-dea1ff162b5b",
     "showTitle": false,
     "tableResultSettingsMap": {},
     "title": ""
    }
   },
   "source": [
    "### Transform Customers data\n",
    "- remove records with NULL customer_id\n",
    "- remove excat duplicate records\n",
    "- remove duplicate records based on created timestamp\n",
    "- cast the columns to correct data type\n",
    "- Write transformed data to silver schema"
   ]
  },
  {
   "cell_type": "markdown",
   "metadata": {
    "application/vnd.databricks.v1+cell": {
     "cellMetadata": {},
     "inputWidgets": {},
     "nuid": "02f5ef01-74ae-4311-afc1-8bdc50e5daa5",
     "showTitle": false,
     "tableResultSettingsMap": {},
     "title": ""
    }
   },
   "source": [
    "### remove records with NULL customer_id"
   ]
  },
  {
   "cell_type": "code",
   "execution_count": 0,
   "metadata": {
    "application/vnd.databricks.v1+cell": {
     "cellMetadata": {
      "byteLimit": 2048000,
      "rowLimit": 10000
     },
     "inputWidgets": {},
     "nuid": "141de937-8401-4680-a9b4-bf59d4918a65",
     "showTitle": false,
     "tableResultSettingsMap": {},
     "title": ""
    }
   },
   "outputs": [],
   "source": [
    "select * from gizmobox.bronze.v_customers"
   ]
  },
  {
   "cell_type": "code",
   "execution_count": 0,
   "metadata": {
    "application/vnd.databricks.v1+cell": {
     "cellMetadata": {
      "byteLimit": 2048000,
      "rowLimit": 10000
     },
     "inputWidgets": {},
     "nuid": "c618cc16-c8e9-44f3-8bc7-46f9877961d2",
     "showTitle": false,
     "tableResultSettingsMap": {},
     "title": ""
    }
   },
   "outputs": [],
   "source": [
    "select * from gizmobox.bronze.v_customers\n",
    "where customer_id is not NULL\n",
    "order by customer_id"
   ]
  },
  {
   "cell_type": "markdown",
   "metadata": {
    "application/vnd.databricks.v1+cell": {
     "cellMetadata": {},
     "inputWidgets": {},
     "nuid": "c02686d2-24b7-4ad1-a753-a109b85dc4fc",
     "showTitle": false,
     "tableResultSettingsMap": {},
     "title": ""
    }
   },
   "source": [
    "### remove excat duplicate records\n"
   ]
  },
  {
   "cell_type": "code",
   "execution_count": 0,
   "metadata": {
    "application/vnd.databricks.v1+cell": {
     "cellMetadata": {
      "byteLimit": 2048000,
      "rowLimit": 10000
     },
     "inputWidgets": {},
     "nuid": "2ca76815-8f00-4332-adf0-ad53a08172f8",
     "showTitle": false,
     "tableResultSettingsMap": {},
     "title": ""
    }
   },
   "outputs": [],
   "source": [
    "select distinct * from gizmobox.bronze.v_customers\n",
    "where customer_id is not NULL\n",
    "order by customer_id"
   ]
  },
  {
   "cell_type": "markdown",
   "metadata": {
    "application/vnd.databricks.v1+cell": {
     "cellMetadata": {},
     "inputWidgets": {},
     "nuid": "2d287b54-2c32-4fde-b7cc-98a9aa5c791a",
     "showTitle": false,
     "tableResultSettingsMap": {},
     "title": ""
    }
   },
   "source": [
    "\n",
    "### remove duplicate records based on created timestamp\n"
   ]
  },
  {
   "cell_type": "code",
   "execution_count": 0,
   "metadata": {
    "application/vnd.databricks.v1+cell": {
     "cellMetadata": {
      "byteLimit": 2048000,
      "rowLimit": 10000
     },
     "inputWidgets": {},
     "nuid": "8a90c58d-1d42-4eff-b5c0-32c550decaf2",
     "showTitle": false,
     "tableResultSettingsMap": {
      "0": {
       "dataGridStateBlob": "{\"version\":1,\"tableState\":{\"columnPinning\":{\"left\":[\"#row_number#\"],\"right\":[]},\"columnSizing\":{},\"columnVisibility\":{}},\"settings\":{\"columns\":{}},\"syncTimestamp\":1753809974715}",
       "filterBlob": null,
       "queryPlanFiltersBlob": null,
       "tableResultIndex": 0
      }
     },
     "title": ""
    }
   },
   "outputs": [],
   "source": [
    "with max_timestamp as (\n",
    "  select customer_id, max(created_timestamp) as created_timestamp\n",
    "  from gizmobox.bronze.v_customers\n",
    "  group by customer_id\n",
    "),\n",
    "distinct_customers as (select distinct * from gizmobox.bronze.v_customers\n",
    "where customer_id is not NULL\n",
    "order by customer_id)\n",
    "select d.*\n",
    "from max_timestamp m\n",
    "inner join distinct_customers d\n",
    "on m.customer_id = d.customer_id\n",
    "and m.created_timestamp = d.created_timestamp\n",
    "order by customer_id\n"
   ]
  },
  {
   "cell_type": "markdown",
   "metadata": {
    "application/vnd.databricks.v1+cell": {
     "cellMetadata": {},
     "inputWidgets": {},
     "nuid": "5ffc0e1d-e34d-482f-858e-bd70eb179ce3",
     "showTitle": false,
     "tableResultSettingsMap": {},
     "title": ""
    }
   },
   "source": [
    "\n",
    "###  cast the columns to correct data type"
   ]
  },
  {
   "cell_type": "code",
   "execution_count": 0,
   "metadata": {
    "application/vnd.databricks.v1+cell": {
     "cellMetadata": {
      "byteLimit": 2048000,
      "rowLimit": 10000
     },
     "inputWidgets": {},
     "nuid": "5ab23345-6bed-4f03-9d02-83ca7f0c0146",
     "showTitle": false,
     "tableResultSettingsMap": {},
     "title": ""
    }
   },
   "outputs": [],
   "source": [
    "with max_timestamp as (\n",
    "  select customer_id, max(created_timestamp) as created_timestamp\n",
    "  from gizmobox.bronze.v_customers\n",
    "  group by customer_id\n",
    "),\n",
    "distinct_customers as (select distinct * from gizmobox.bronze.v_customers\n",
    "where customer_id is not NULL\n",
    "order by customer_id)\n",
    "select CAST(d.created_timestamp AS TIMESTAMP),d.customer_id,d.customer_name, CAST(d.date_of_birth as DATE),d.email,\n",
    "CAST(d.member_since as DATE),d.telephone, d.file_path\n",
    "from max_timestamp m\n",
    "inner join distinct_customers d\n",
    "on m.customer_id = d.customer_id\n",
    "and m.created_timestamp = d.created_timestamp\n",
    "order by customer_id"
   ]
  },
  {
   "cell_type": "markdown",
   "metadata": {
    "application/vnd.databricks.v1+cell": {
     "cellMetadata": {},
     "inputWidgets": {},
     "nuid": "c8434a43-f6dc-441e-b49e-65ce3772f610",
     "showTitle": false,
     "tableResultSettingsMap": {},
     "title": ""
    }
   },
   "source": [
    "###  Write transformed data to silver schema"
   ]
  },
  {
   "cell_type": "code",
   "execution_count": 0,
   "metadata": {
    "application/vnd.databricks.v1+cell": {
     "cellMetadata": {
      "byteLimit": 2048000,
      "rowLimit": 10000
     },
     "inputWidgets": {},
     "nuid": "19334437-6ce0-4971-9b6d-566335f019dc",
     "showTitle": false,
     "tableResultSettingsMap": {},
     "title": ""
    }
   },
   "outputs": [],
   "source": [
    "CREATE TABLE IF NOT EXISTS gizmobox.silver.customers AS\n",
    "with max_timestamp as (\n",
    "  select customer_id, max(created_timestamp) as created_timestamp\n",
    "  from gizmobox.bronze.v_customers\n",
    "  group by customer_id\n",
    "),\n",
    "distinct_customers as (select distinct * from gizmobox.bronze.v_customers\n",
    "where customer_id is not NULL\n",
    "order by customer_id)\n",
    "select CAST(d.created_timestamp AS TIMESTAMP),d.customer_id,d.customer_name, CAST(d.date_of_birth as DATE),d.email,\n",
    "CAST(d.member_since as DATE),d.telephone, d.file_path\n",
    "from max_timestamp m\n",
    "inner join distinct_customers d\n",
    "on m.customer_id = d.customer_id\n",
    "and m.created_timestamp = d.created_timestamp\n",
    "order by customer_id"
   ]
  },
  {
   "cell_type": "code",
   "execution_count": 0,
   "metadata": {
    "application/vnd.databricks.v1+cell": {
     "cellMetadata": {
      "byteLimit": 2048000,
      "rowLimit": 10000
     },
     "inputWidgets": {},
     "nuid": "d27d16de-b6f6-42ba-b3f7-a9376a48e14a",
     "showTitle": false,
     "tableResultSettingsMap": {},
     "title": ""
    }
   },
   "outputs": [],
   "source": [
    "select * from gizmobox.silver.customers"
   ]
  },
  {
   "cell_type": "code",
   "execution_count": 0,
   "metadata": {
    "application/vnd.databricks.v1+cell": {
     "cellMetadata": {
      "byteLimit": 2048000,
      "rowLimit": 10000
     },
     "inputWidgets": {},
     "nuid": "8547aad4-a5f5-4e85-8d6b-5a6f2f0ef456",
     "showTitle": false,
     "tableResultSettingsMap": {},
     "title": ""
    }
   },
   "outputs": [],
   "source": [
    "DESCRIBE EXTENDED gizmobox.silver.customers"
   ]
  }
 ],
 "metadata": {
  "application/vnd.databricks.v1+notebook": {
   "computePreferences": null,
   "dashboards": [],
   "environmentMetadata": {
    "base_environment": "",
    "environment_version": "2"
   },
   "inputWidgetPreferences": null,
   "language": "sql",
   "notebookMetadata": {
    "pythonIndentUnit": 4
   },
   "notebookName": "9. Transform Customers data",
   "widgets": {}
  },
  "language_info": {
   "name": "sql"
  }
 },
 "nbformat": 4,
 "nbformat_minor": 0
}
