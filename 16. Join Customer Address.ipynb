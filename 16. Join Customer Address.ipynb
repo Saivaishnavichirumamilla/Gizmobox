{
 "cells": [
  {
   "cell_type": "markdown",
   "metadata": {
    "application/vnd.databricks.v1+cell": {
     "cellMetadata": {},
     "inputWidgets": {},
     "nuid": "e70e574a-d243-47b9-ae9b-c11dc1d252de",
     "showTitle": false,
     "tableResultSettingsMap": {},
     "title": ""
    }
   },
   "source": [
    "### JOIN Customers and addresses and write data into gold schema"
   ]
  },
  {
   "cell_type": "code",
   "execution_count": 0,
   "metadata": {
    "application/vnd.databricks.v1+cell": {
     "cellMetadata": {
      "byteLimit": 2048000,
      "rowLimit": 10000
     },
     "inputWidgets": {},
     "nuid": "5004a83d-cd56-480f-ac36-6c9c675c09aa",
     "showTitle": false,
     "tableResultSettingsMap": {},
     "title": ""
    }
   },
   "outputs": [],
   "source": [
    "select * from gizmobox.silver.customers"
   ]
  },
  {
   "cell_type": "code",
   "execution_count": 0,
   "metadata": {
    "application/vnd.databricks.v1+cell": {
     "cellMetadata": {
      "byteLimit": 2048000,
      "rowLimit": 10000
     },
     "inputWidgets": {},
     "nuid": "1998c66b-4a84-45f7-938a-7a9e5ba2e1fc",
     "showTitle": false,
     "tableResultSettingsMap": {},
     "title": ""
    }
   },
   "outputs": [],
   "source": [
    "select * from gizmobox.silver.addresses"
   ]
  },
  {
   "cell_type": "code",
   "execution_count": 0,
   "metadata": {
    "application/vnd.databricks.v1+cell": {
     "cellMetadata": {
      "byteLimit": 2048000,
      "rowLimit": 10000
     },
     "inputWidgets": {},
     "nuid": "885aa515-4f7c-4dd6-83cf-17e22c9c414b",
     "showTitle": false,
     "tableResultSettingsMap": {
      "0": {
       "dataGridStateBlob": "{\"version\":1,\"tableState\":{\"columnPinning\":{\"left\":[\"#row_number#\"],\"right\":[]},\"columnSizing\":{},\"columnVisibility\":{}},\"settings\":{\"columns\":{}},\"syncTimestamp\":1753900652238}",
       "filterBlob": null,
       "queryPlanFiltersBlob": null,
       "tableResultIndex": 0
      }
     },
     "title": ""
    }
   },
   "outputs": [],
   "source": [
    "select c.customer_id,\n",
    "c.customer_name, \n",
    "c.date_of_birth,\n",
    "c.email,\n",
    "c.member_since,\n",
    "a.shipping_address_line_1,\n",
    "a.shipping_city,\n",
    "a.shipping_state,\n",
    "a.shipping_postcode,\n",
    "a.billing_address_line_1,\n",
    "a.billing_city,\n",
    "a.billing_state,\n",
    "a.billing_postcode from gizmobox.silver.customers as c\n",
    "inner join gizmobox.silver.addresses as a\n",
    "on c.customer_id=a.customer_id"
   ]
  },
  {
   "cell_type": "code",
   "execution_count": 0,
   "metadata": {
    "application/vnd.databricks.v1+cell": {
     "cellMetadata": {
      "byteLimit": 2048000,
      "rowLimit": 10000
     },
     "inputWidgets": {},
     "nuid": "9f21fe70-b4d1-4557-93bd-a61b169c5e9a",
     "showTitle": false,
     "tableResultSettingsMap": {},
     "title": ""
    }
   },
   "outputs": [],
   "source": [
    "CREATE TABLE IF NOT EXISTS gizmobox.gold.customer_address AS\n",
    "select c.customer_id,\n",
    "c.customer_name, \n",
    "c.date_of_birth,\n",
    "c.email,\n",
    "c.member_since,\n",
    "a.shipping_address_line_1,\n",
    "a.shipping_city,\n",
    "a.shipping_state,\n",
    "a.shipping_postcode,\n",
    "a.billing_address_line_1,\n",
    "a.billing_city,\n",
    "a.billing_state,\n",
    "a.billing_postcode from gizmobox.silver.customers as c\n",
    "inner join gizmobox.silver.addresses as a\n",
    "on c.customer_id=a.customer_id\n"
   ]
  },
  {
   "cell_type": "code",
   "execution_count": 0,
   "metadata": {
    "application/vnd.databricks.v1+cell": {
     "cellMetadata": {
      "byteLimit": 2048000,
      "rowLimit": 10000
     },
     "inputWidgets": {},
     "nuid": "b0c03a9f-8701-49d7-9a90-03f1844417ba",
     "showTitle": false,
     "tableResultSettingsMap": {},
     "title": ""
    }
   },
   "outputs": [],
   "source": [
    "select * from gizmobox.gold.customer_address"
   ]
  }
 ],
 "metadata": {
  "application/vnd.databricks.v1+notebook": {
   "computePreferences": null,
   "dashboards": [],
   "environmentMetadata": {
    "base_environment": "",
    "environment_version": "2"
   },
   "inputWidgetPreferences": null,
   "language": "sql",
   "notebookMetadata": {},
   "notebookName": "16. Join Customer Address",
   "widgets": {}
  },
  "language_info": {
   "name": "sql"
  }
 },
 "nbformat": 4,
 "nbformat_minor": 0
}
