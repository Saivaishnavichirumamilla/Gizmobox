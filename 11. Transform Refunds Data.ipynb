{
 "cells": [
  {
   "cell_type": "markdown",
   "metadata": {
    "application/vnd.databricks.v1+cell": {
     "cellMetadata": {},
     "inputWidgets": {},
     "nuid": "f6adcf93-4326-492c-8d3c-a07660890683",
     "showTitle": false,
     "tableResultSettingsMap": {},
     "title": ""
    }
   },
   "source": [
    "### Transform Refunds Data\n",
    "1. Extract specific portion of the string from refund_reason using split function.\n",
    "2. Extract specific portion of the string from refund_reason using regexp-extract function.\n",
    "3. Extract date and timestamp from refund_timestamp\n",
    "4. Write transformed data to  silver schema in hive_metastore\n"
   ]
  },
  {
   "cell_type": "code",
   "execution_count": 0,
   "metadata": {
    "application/vnd.databricks.v1+cell": {
     "cellMetadata": {
      "byteLimit": 2048000,
      "rowLimit": 10000
     },
     "inputWidgets": {},
     "nuid": "e90e4012-e316-46df-a3d7-93a53d67a101",
     "showTitle": false,
     "tableResultSettingsMap": {},
     "title": ""
    }
   },
   "outputs": [],
   "source": [
    "select * from hive_metastore.bronze.refunds"
   ]
  },
  {
   "cell_type": "markdown",
   "metadata": {
    "application/vnd.databricks.v1+cell": {
     "cellMetadata": {},
     "inputWidgets": {},
     "nuid": "48e1722f-f8ad-4b48-95c0-1375fbde9304",
     "showTitle": false,
     "tableResultSettingsMap": {},
     "title": ""
    }
   },
   "source": [
    "### Extract specific portion of the string from refund_reason using split function."
   ]
  },
  {
   "cell_type": "code",
   "execution_count": 0,
   "metadata": {
    "application/vnd.databricks.v1+cell": {
     "cellMetadata": {
      "byteLimit": 2048000,
      "rowLimit": 10000
     },
     "inputWidgets": {},
     "nuid": "b7766ee6-1c19-4760-9326-3662b6da2b8b",
     "showTitle": false,
     "tableResultSettingsMap": {},
     "title": ""
    }
   },
   "outputs": [],
   "source": [
    "select refund_id,payment_id,refund_timestamp, refund_amount,\n",
    "SPLIT(refund_reason,':')[0] as refund_reason,\n",
    "SPLIT(refund_reason,':')[1] as refund_source\n",
    "from hive_metastore.bronze.refunds"
   ]
  },
  {
   "cell_type": "markdown",
   "metadata": {
    "application/vnd.databricks.v1+cell": {
     "cellMetadata": {},
     "inputWidgets": {},
     "nuid": "32514848-383e-4be7-b6d8-c4c04d06916c",
     "showTitle": false,
     "tableResultSettingsMap": {},
     "title": ""
    }
   },
   "source": [
    "### Extract date and timestamp from refund_timestamp"
   ]
  },
  {
   "cell_type": "code",
   "execution_count": 0,
   "metadata": {
    "application/vnd.databricks.v1+cell": {
     "cellMetadata": {
      "byteLimit": 2048000,
      "rowLimit": 10000
     },
     "inputWidgets": {},
     "nuid": "ee15c73f-a4ab-4ae0-a83f-f2bbea0e44cb",
     "showTitle": false,
     "tableResultSettingsMap": {},
     "title": ""
    }
   },
   "outputs": [],
   "source": [
    "select refund_id,payment_id,\n",
    "CAST(date_format(refund_timestamp,'yyyy-MM-dd') as DATE) as refund_date,\n",
    "date_format(refund_timestamp,'HH:mm:ss') as refund_time,\n",
    "refund_amount,\n",
    "SPLIT(refund_reason,':')[0] as refund_reason,\n",
    "SPLIT(refund_reason,':')[1] as refund_source\n",
    "from hive_metastore.bronze.refunds"
   ]
  },
  {
   "cell_type": "markdown",
   "metadata": {
    "application/vnd.databricks.v1+cell": {
     "cellMetadata": {},
     "inputWidgets": {},
     "nuid": "756b4cf4-7d5e-4d07-bf3a-52bb3d03426a",
     "showTitle": false,
     "tableResultSettingsMap": {},
     "title": ""
    }
   },
   "source": [
    "### Write transformed data to silver schema in hive_metastore"
   ]
  },
  {
   "cell_type": "code",
   "execution_count": 0,
   "metadata": {
    "application/vnd.databricks.v1+cell": {
     "cellMetadata": {
      "byteLimit": 2048000,
      "rowLimit": 10000
     },
     "inputWidgets": {},
     "nuid": "7a17a2ef-f0e8-4f14-9c12-9f486a728926",
     "showTitle": false,
     "tableResultSettingsMap": {},
     "title": ""
    }
   },
   "outputs": [],
   "source": [
    "CREATE SCHEMA hive_metastore.silver"
   ]
  },
  {
   "cell_type": "code",
   "execution_count": 0,
   "metadata": {
    "application/vnd.databricks.v1+cell": {
     "cellMetadata": {
      "byteLimit": 2048000,
      "rowLimit": 10000
     },
     "inputWidgets": {},
     "nuid": "e4ed9fe2-397b-4348-b721-cbdb3af4b28b",
     "showTitle": false,
     "tableResultSettingsMap": {},
     "title": ""
    }
   },
   "outputs": [],
   "source": [
    "CREATE TABLE IF NOT EXISTS hive_metastore.silver.refunds AS\n",
    "select refund_id,payment_id,\n",
    "CAST(date_format(refund_timestamp,'yyyy-MM-dd') as DATE) as refund_date,\n",
    "date_format(refund_timestamp,'HH:mm:ss') as refund_time,\n",
    "refund_amount,\n",
    "SPLIT(refund_reason,':')[0] as refund_reason,\n",
    "SPLIT(refund_reason,':')[1] as refund_source\n",
    "from hive_metastore.bronze.refunds"
   ]
  },
  {
   "cell_type": "code",
   "execution_count": 0,
   "metadata": {
    "application/vnd.databricks.v1+cell": {
     "cellMetadata": {
      "byteLimit": 2048000,
      "rowLimit": 10000
     },
     "inputWidgets": {},
     "nuid": "6f3fc0eb-fbec-47e7-b178-d097fe45ff94",
     "showTitle": false,
     "tableResultSettingsMap": {},
     "title": ""
    }
   },
   "outputs": [],
   "source": [
    "select * from hive_metastore.silver.refunds"
   ]
  }
 ],
 "metadata": {
  "application/vnd.databricks.v1+notebook": {
   "computePreferences": null,
   "dashboards": [],
   "environmentMetadata": {
    "base_environment": "",
    "environment_version": "2"
   },
   "inputWidgetPreferences": null,
   "language": "sql",
   "notebookMetadata": {
    "pythonIndentUnit": 4
   },
   "notebookName": "11. Transform Refunds Data",
   "widgets": {}
  },
  "language_info": {
   "name": "sql"
  }
 },
 "nbformat": 4,
 "nbformat_minor": 0
}
